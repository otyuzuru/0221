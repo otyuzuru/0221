{
 "cells": [
  {
   "cell_type": "code",
   "execution_count": 1,
   "metadata": {
    "collapsed": false
   },
   "outputs": [
    {
     "name": "stdout",
     "output_type": "stream",
     "text": [
      "(100,[1,14,31,44],[4.0,3.0,2.0,1.0])\n",
      "<class 'pyspark.mllib.linalg.SparseVector'>\n",
      "hash_a= 44 , hash_b= 31 , hash_c= 14 , hash_d= 1\n"
     ]
    }
   ],
   "source": [
    "from pyspark.mllib.feature import HashingTF\n",
    "htf = HashingTF(100)\n",
    "doc = \"a b b c c c d d d d\".split(\" \")\n",
    "vec = htf.transform(doc)\n",
    "print vec\n",
    "print type(vec)\n",
    "print \"hash_a=\",htf.indexOf(\"a\"), \", hash_b=\",htf.indexOf(\"b\"),\", hash_c=\",htf.indexOf(\"c\"),\", hash_d=\",htf.indexOf(\"d\")"
   ]
  },
  {
   "cell_type": "code",
   "execution_count": null,
   "metadata": {
    "collapsed": true
   },
   "outputs": [],
   "source": []
  }
 ],
 "metadata": {
  "kernelspec": {
   "display_name": "Python 2",
   "language": "python",
   "name": "python2"
  },
  "language_info": {
   "codemirror_mode": {
    "name": "ipython",
    "version": 2
   },
   "file_extension": ".py",
   "mimetype": "text/x-python",
   "name": "python",
   "nbconvert_exporter": "python",
   "pygments_lexer": "ipython2",
   "version": "2.7.8"
  }
 },
 "nbformat": 4,
 "nbformat_minor": 0
}
