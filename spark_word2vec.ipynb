{
 "cells": [
  {
   "cell_type": "code",
   "execution_count": 41,
   "metadata": {
    "collapsed": false
   },
   "outputs": [],
   "source": [
    "import pyspark\n",
    "import pymongo_spark\n",
    "from pyspark import mllib\n",
    "from pyspark.mllib.clustering import KMeans\n",
    "import pymongo\n",
    "from pymongo import MongoClient\n",
    "from pyspark import SparkConf, SparkContext\n",
    "pymongo_spark.activate()\n",
    "client = MongoClient('10.120.28.20', 27017)\n",
    "database = client[\"production\"]\n",
    "collection = database[\"ebc\"]\n",
    "\n",
    "sc.stop()\n",
    "conf = (SparkConf().set(\"spark.driver.maxResultSize\", \"2g\"))\n",
    "sc = pyspark.SparkContext(master=\"local[*]\", conf=conf, appName=\"word2vec\")\n"
   ]
  },
  {
   "cell_type": "code",
   "execution_count": 106,
   "metadata": {
    "collapsed": false
   },
   "outputs": [
    {
     "name": "stderr",
     "output_type": "stream",
     "text": [
      "Building prefix dict from /home/cloudera/Desktop/text_mining/dict.txt ...\n",
      "Loading model from cache /tmp/jieba.u77727ee2cf0db5a92286247fca7f8515.cache\n",
      "Loading model cost 0.855 seconds.\n",
      "Prefix dict has been built succesfully.\n"
     ]
    },
    {
     "data": {
      "text/plain": [
       "407753"
      ]
     },
     "execution_count": 106,
     "metadata": {},
     "output_type": "execute_result"
    }
   ],
   "source": [
    "import numpy as np\n",
    "jieba.set_dictionary('/home/cloudera/Desktop/text_mining/dict.txt')            \n",
    "jieba.load_userdict(\"/home/cloudera/Desktop/text_mining/dict_keyw_new.txt\")\n",
    "jieba.load_userdict(\"/home/cloudera/Desktop/text_mining/dict_cbdic.txt\")\n",
    "mongo_rdd = sc.mongoPairRDD(\"mongodb://10.120.28.20:27017/production.ebc\") # 所有ebc新聞\n",
    "mongo_rdd.count()"
   ]
  },
  {
   "cell_type": "code",
   "execution_count": 95,
   "metadata": {
    "collapsed": false
   },
   "outputs": [
    {
     "name": "stdout",
     "output_type": "stream",
     "text": [
      "[u'\\u6d77\\u5c3c\\u6839', u'\\u5564\\u9152', u'\\u5c0f\\u7ad9', u'\\u7159\\u71fb', u'\\u5831\\u6599', u'\\u5fb7\\u570b', u'\\u5716\\u8d6b', u'\\u5e97\\u54e1', u'\\u5169\\u7f50', u'\\u5564\\u9152\\u676f', u'\\u7d10\\u502b\\u5821', u'\\u694a\\u5148\\u751f', u'\\u4e09\\u829d', u'\\u5ba2\\u4eba', u'\\u8ce3\\u7684', u'\\u8001\\u95c6', u'\\u8ce3\\u7d66', u'\\u54e1\\u5de5', u'\\u6ecb\\u5473', u'\\u5e97\\u5167', u'\\u79c1\\u5e95\\u4e0b', u'\\u4e00\\u53e3', u'\\u88e1\\u982d', u'\\u81a9\\u4e86', u'\\u4e0d\\u6703\\u5427', u'tucher', u'660ml', u'\\u7cbe\\u91c0\\u5564\\u9152', u'\\u8c8d\\u8c93\\u63db\\u592a\\u5b50', u'\\u6d77\\u5c3c', u'330ml', u'\\u4e0b\\u53e3', u'\\u5fb7\\u570b\\u8c6c\\u8173', u'\\u8b00\\u53d6', u'\\u7b2c\\u4e00\\u676f', u'\\u65b0\\u5317\\u5e02', u'500ml', u'\\u919c\\u4e8b', u'\\u4e00\\u559d', u'\\u4e00\\u676f\\u9152']\n"
     ]
    }
   ],
   "source": [
    "from pyspark.mllib.feature import Word2Vec\n",
    "\n",
    "content_RDD = mongo_rdd.map(lambda x: x[1][\"tfidf\"]) # 撈tfidf來跑word2vec\n",
    "print content_RDD.first()\n",
    "\n",
    "word2vec = Word2Vec()\n",
    "model = word2vec.fit(content_RDD)  # 訓練word2vec model\n"
   ]
  },
  {
   "cell_type": "code",
   "execution_count": 98,
   "metadata": {
    "collapsed": true
   },
   "outputs": [],
   "source": [
    "# Save and load model\n",
    "model.save(sc, \"file:/home/cloudera/Desktop/text_mining/Word2VecModel\")\n",
    "#sameModel = Word2VecModel.load(sc, \"myModelPath\")"
   ]
  },
  {
   "cell_type": "code",
   "execution_count": 103,
   "metadata": {
    "collapsed": false
   },
   "outputs": [
    {
     "name": "stdout",
     "output_type": "stream",
     "text": [
      "民進黨: 2.08618758281\n",
      "陳建仁: 2.02719778087\n",
      "總統參選人: 2.02380895472\n",
      "國民黨: 2.00834902248\n",
      "朱立倫: 1.99331960609\n",
      "第三勢力: 1.98581445417\n",
      "蘇嘉全: 1.95825142207\n",
      "政見: 1.95003058908\n",
      "謝長廷: 1.94266911947\n",
      "宋楚瑜: 1.94099343872\n",
      "游梓翔: 1.93983920212\n",
      "洪秀柱: 1.93694053056\n",
      "兩岸政策: 1.93666553653\n",
      "綠營: 1.93535072519\n",
      "五大戰區: 1.93337271148\n",
      "鄭運鵬: 1.93283584241\n",
      "勝選: 1.93011731268\n",
      "徐欣瑩: 1.92908315075\n",
      "時代力量: 1.92298256783\n",
      "總統候選人: 1.92282685537\n",
      "黨代表: 1.9209031837\n",
      "副手: 1.91947313334\n",
      "許信良: 1.9184489688\n",
      "辯論會: 1.91729597465\n",
      "選對會: 1.91667515281\n",
      "一中同表: 1.91451995821\n",
      "政黨: 1.9130984626\n",
      "政黨票: 1.90509661807\n",
      "臨全會: 1.90365134515\n",
      "藍營: 1.90126523051\n",
      "蘇貞昌: 1.90075789637\n",
      "選舉: 1.89874262869\n",
      "徐巧芯: 1.89675763996\n",
      "民國黨: 1.89407932185\n",
      "蘇巧慧: 1.89182363673\n",
      "劉康彥: 1.89181357664\n",
      "台獨黨綱: 1.89177604946\n",
      "林俊憲: 1.8905716861\n",
      "親民黨: 1.885026101\n",
      "挺柱: 1.88023099589\n",
      "主席蔡英文: 1.87979835138\n",
      "拔樁: 1.87616990892\n",
      "立委參選人: 1.86914869204\n",
      "泛藍: 1.86731990432\n",
      "大黨: 1.86709746712\n",
      "在野: 1.86520888179\n",
      "柱柱姐: 1.86410922253\n",
      "辯論: 1.86378725704\n",
      "執政: 1.86355746566\n",
      "中常會: 1.86130851035\n",
      "0.363887071609\n"
     ]
    }
   ],
   "source": [
    "import time\n",
    "start = time.time()\n",
    "synonyms = model.findSynonyms(\"蔡英文\",50)  # 查詢詞, 前n相關\n",
    "for word, cosine_distance in synonyms:\n",
    "    print(\"{}: {}\".format(word.encode(\"utf8\"), cosine_distance))\n",
    "print time.time()-start # 查詢時間"
   ]
  },
  {
   "cell_type": "code",
   "execution_count": 104,
   "metadata": {
    "collapsed": false
   },
   "outputs": [
    {
     "name": "stdout",
     "output_type": "stream",
     "text": [
      "建仔: 2.1886394043\n",
      "3a: 2.16216662636\n",
      "上大聯盟: 2.11974355279\n",
      "王維中: 2.06433398061\n",
      "曹錦輝: 2.0346258662\n",
      "紅人: 2.02379613834\n",
      "白襪: 2.02065013112\n",
      "小聯盟: 2.01602240558\n",
      "松坂大輔: 2.01167754367\n",
      "運動家: 1.99427996545\n",
      "道奇隊: 1.99391980615\n",
      "雙城: 1.99139645897\n",
      "曾仁和: 1.98817319972\n",
      "小聯盟合約: 1.98717161623\n",
      "響尾蛇: 1.98211726629\n",
      "達比修: 1.97407416729\n",
      "藍鳥: 1.96975196133\n",
      "尹錫珉: 1.96844585483\n",
      "紅人隊: 1.96065314995\n",
      "李振昌: 1.95979874168\n",
      "亞席沙: 1.95644853809\n",
      "球探: 1.95178797026\n",
      "大聯盟: 1.95070599886\n",
      "印地安人: 1.94338295053\n",
      "自責分率: 1.92505630982\n",
      "波拉斯: 1.92472672524\n",
      "2a: 1.91786011882\n",
      "道奇: 1.91517239495\n",
      "鈴木一朗: 1.91232207634\n",
      "小熊隊: 1.90855350001\n",
      "馬林魚: 1.90854474785\n",
      "遊騎兵: 1.90667465807\n",
      "印地安人隊: 1.90394227204\n",
      "右投: 1.90368049326\n",
      "范迪特: 1.89433159563\n",
      "費城人: 1.89286048087\n",
      "皇家隊: 1.88915602255\n",
      "強投: 1.8884714844\n",
      "陳偉殷: 1.88845889023\n",
      "水手: 1.88741487723\n",
      "田中將大: 1.88561832751\n",
      "索茲: 1.885386016\n",
      "金鶯隊: 1.88490296323\n",
      "和田毅: 1.87703822184\n",
      "美職: 1.87595751317\n",
      "紅襪: 1.87432487494\n",
      "教士: 1.87230385685\n",
      "開投: 1.86844749658\n",
      "洋基: 1.86551722623\n",
      "勇士隊: 1.86267830295\n",
      "0.218965053558\n"
     ]
    }
   ],
   "source": [
    "start = time.time()\n",
    "synonyms = model.findSynonyms(\"王建民\",50)\n",
    "for word, cosine_distance in synonyms:\n",
    "    print(\"{}: {}\".format(word.encode(\"utf8\"), cosine_distance))\n",
    "print time.time()-start"
   ]
  },
  {
   "cell_type": "code",
   "execution_count": 129,
   "metadata": {
    "collapsed": false
   },
   "outputs": [
    {
     "name": "stdout",
     "output_type": "stream",
     "text": [
      "行動裝置: 1.95984537543\n",
      "應用: 1.89094957747\n",
      "硬體: 1.85925098726\n",
      "物聯網: 1.81439852515\n",
      "解決方案: 1.79899250653\n",
      "iaas: 1.77543345444\n",
      "康容: 1.76161901877\n",
      "裝置: 1.75865236972\n",
      "大數據: 1.74260832132\n",
      "使用者: 1.74056484279\n",
      "雲端服務: 1.71357281438\n",
      "軟體: 1.71250997518\n",
      "cillin: 1.70657513082\n",
      "趨勢科技: 1.7008283956\n",
      "通訊: 1.69998246324\n",
      "建置: 1.69307179869\n",
      "程式: 1.69288274049\n",
      "雙智: 1.6898387613\n",
      "安裝: 1.68620208985\n",
      "應用程式: 1.6758085544\n",
      "數位: 1.67264967795\n",
      "平板電腦: 1.67163645444\n",
      "介面: 1.6701080732\n",
      "運算: 1.66876066998\n",
      "行動支付: 1.64854198803\n",
      "語音: 1.64203696649\n",
      "azure: 1.63452592787\n",
      "智能: 1.63342701384\n",
      "數位生活: 1.63243960976\n",
      "蔡恩全: 1.62726719941\n",
      "普及: 1.61925007456\n",
      "導入: 1.61893089422\n",
      "saas: 1.61850692062\n",
      "新報: 1.61745323068\n",
      "智慧型: 1.61518858355\n",
      "轉換器: 1.61422954857\n",
      "智慧家庭: 1.61305212517\n",
      "擴充: 1.60999722476\n",
      "智慧: 1.60869171907\n",
      "推播: 1.60799040403\n",
      "開發者: 1.60781658209\n",
      "led: 1.60480229231\n",
      "智慧型手機: 1.60426481995\n",
      "行動通訊: 1.60356163661\n",
      "維修中心: 1.60232677289\n",
      "tizen: 1.60228320667\n",
      "opera: 1.60091151092\n",
      "微軟: 1.59670524973\n",
      "用戶: 1.59461906379\n",
      "mozil: 1.59416444674\n",
      "0.210816144943\n"
     ]
    }
   ],
   "source": [
    "start = time.time()\n",
    "synonyms = model.findSynonyms(\"雲端\",50)\n",
    "for word, cosine_distance in synonyms:\n",
    "    print(\"{}: {}\".format(word.encode(\"utf8\"), cosine_distance))\n",
    "print time.time()-start"
   ]
  },
  {
   "cell_type": "code",
   "execution_count": 117,
   "metadata": {
    "collapsed": false
   },
   "outputs": [
    {
     "ename": "ValueError",
     "evalue": "too many values to unpack",
     "output_type": "error",
     "traceback": [
      "\u001b[1;31m---------------------------------------------------------------------------\u001b[0m",
      "\u001b[1;31mValueError\u001b[0m                                Traceback (most recent call last)",
      "\u001b[1;32m<ipython-input-117-4855038032f0>\u001b[0m in \u001b[0;36m<module>\u001b[1;34m()\u001b[0m\n\u001b[0;32m      2\u001b[0m \u001b[0mstart\u001b[0m \u001b[1;33m=\u001b[0m \u001b[0mtime\u001b[0m\u001b[1;33m.\u001b[0m\u001b[0mtime\u001b[0m\u001b[1;33m(\u001b[0m\u001b[1;33m)\u001b[0m\u001b[1;33m\u001b[0m\u001b[0m\n\u001b[0;32m      3\u001b[0m \u001b[0mwor2M\u001b[0m \u001b[1;33m=\u001b[0m \u001b[0mWord2VecModel\u001b[0m\u001b[1;33m.\u001b[0m\u001b[0mload\u001b[0m\u001b[1;33m(\u001b[0m\u001b[0msc\u001b[0m\u001b[1;33m,\u001b[0m\u001b[1;34m\"file:/home/cloudera/Desktop/text_mining/Word2VecModel\"\u001b[0m\u001b[1;33m)\u001b[0m\u001b[1;33m\u001b[0m\u001b[0m\n\u001b[1;32m----> 4\u001b[1;33m \u001b[0msynonyms\u001b[0m \u001b[1;33m=\u001b[0m \u001b[0mwor2M\u001b[0m\u001b[1;33m.\u001b[0m\u001b[0mfindSynonyms\u001b[0m\u001b[1;33m(\u001b[0m\u001b[1;34m\"牛肉\"\u001b[0m\u001b[1;33m,\u001b[0m\u001b[1;36m50\u001b[0m\u001b[1;33m)\u001b[0m\u001b[1;33m\u001b[0m\u001b[0m\n\u001b[0m\u001b[0;32m      5\u001b[0m \u001b[1;32mfor\u001b[0m \u001b[0mword\u001b[0m\u001b[1;33m,\u001b[0m \u001b[0mcosine_distance\u001b[0m \u001b[1;32min\u001b[0m \u001b[0msynonyms\u001b[0m\u001b[1;33m:\u001b[0m\u001b[1;33m\u001b[0m\u001b[0m\n\u001b[0;32m      6\u001b[0m     \u001b[1;32mprint\u001b[0m\u001b[1;33m(\u001b[0m\u001b[1;34m\"{}: {}\"\u001b[0m\u001b[1;33m.\u001b[0m\u001b[0mformat\u001b[0m\u001b[1;33m(\u001b[0m\u001b[0mword\u001b[0m\u001b[1;33m.\u001b[0m\u001b[0mencode\u001b[0m\u001b[1;33m(\u001b[0m\u001b[1;34m\"utf8\"\u001b[0m\u001b[1;33m)\u001b[0m\u001b[1;33m,\u001b[0m \u001b[0mcosine_distance\u001b[0m\u001b[1;33m)\u001b[0m\u001b[1;33m)\u001b[0m\u001b[1;33m\u001b[0m\u001b[0m\n",
      "\u001b[1;32m/usr/lib/spark/python/pyspark/mllib/feature.py\u001b[0m in \u001b[0;36mfindSynonyms\u001b[1;34m(self, word, num)\u001b[0m\n\u001b[0;32m    448\u001b[0m         \u001b[1;32mif\u001b[0m \u001b[1;32mnot\u001b[0m \u001b[0misinstance\u001b[0m\u001b[1;33m(\u001b[0m\u001b[0mword\u001b[0m\u001b[1;33m,\u001b[0m \u001b[0mbasestring\u001b[0m\u001b[1;33m)\u001b[0m\u001b[1;33m:\u001b[0m\u001b[1;33m\u001b[0m\u001b[0m\n\u001b[0;32m    449\u001b[0m             \u001b[0mword\u001b[0m \u001b[1;33m=\u001b[0m \u001b[0m_convert_to_vector\u001b[0m\u001b[1;33m(\u001b[0m\u001b[0mword\u001b[0m\u001b[1;33m)\u001b[0m\u001b[1;33m\u001b[0m\u001b[0m\n\u001b[1;32m--> 450\u001b[1;33m         \u001b[0mwords\u001b[0m\u001b[1;33m,\u001b[0m \u001b[0msimilarity\u001b[0m \u001b[1;33m=\u001b[0m \u001b[0mself\u001b[0m\u001b[1;33m.\u001b[0m\u001b[0mcall\u001b[0m\u001b[1;33m(\u001b[0m\u001b[1;34m\"findSynonyms\"\u001b[0m\u001b[1;33m,\u001b[0m \u001b[0mword\u001b[0m\u001b[1;33m,\u001b[0m \u001b[0mnum\u001b[0m\u001b[1;33m)\u001b[0m\u001b[1;33m\u001b[0m\u001b[0m\n\u001b[0m\u001b[0;32m    451\u001b[0m         \u001b[1;32mreturn\u001b[0m \u001b[0mzip\u001b[0m\u001b[1;33m(\u001b[0m\u001b[0mwords\u001b[0m\u001b[1;33m,\u001b[0m \u001b[0msimilarity\u001b[0m\u001b[1;33m)\u001b[0m\u001b[1;33m\u001b[0m\u001b[0m\n\u001b[0;32m    452\u001b[0m \u001b[1;33m\u001b[0m\u001b[0m\n",
      "\u001b[1;31mValueError\u001b[0m: too many values to unpack"
     ]
    }
   ],
   "source": [
    "# 讀檔測試\n",
    "from pyspark.mllib.feature import Word2VecModel\n",
    "start = time.time()\n",
    "wor2M = Word2VecModel.load(sc,\"file:/home/cloudera/Desktop/text_mining/Word2VecModel\")\n",
    "synonyms = wor2M.findSynonyms(\"牛肉\",50)\n",
    "for word, cosine_distance in synonyms:\n",
    "    print(\"{}: {}\".format(word.encode(\"utf8\"), cosine_distance))\n",
    "print time.time()-start\n",
    "\n",
    "# 確定pyspark的word2vec讀檔有bug, spark1.6版後才修正"
   ]
  },
  {
   "cell_type": "code",
   "execution_count": null,
   "metadata": {
    "collapsed": true
   },
   "outputs": [],
   "source": []
  }
 ],
 "metadata": {
  "kernelspec": {
   "display_name": "Python 2",
   "language": "python",
   "name": "python2"
  },
  "language_info": {
   "codemirror_mode": {
    "name": "ipython",
    "version": 2
   },
   "file_extension": ".py",
   "mimetype": "text/x-python",
   "name": "python",
   "nbconvert_exporter": "python",
   "pygments_lexer": "ipython2",
   "version": "2.7.8"
  }
 },
 "nbformat": 4,
 "nbformat_minor": 0
}
