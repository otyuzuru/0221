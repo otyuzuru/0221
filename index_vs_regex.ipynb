{
 "cells": [
  {
   "cell_type": "code",
   "execution_count": 5,
   "metadata": {
    "collapsed": true
   },
   "outputs": [],
   "source": [
    "from pymongo import MongoClient\n",
    "client = MongoClient('10.120.28.20', 27017)\n",
    "database = client[\"production\"]\n",
    "collection = database[\"news\"]"
   ]
  },
  {
   "cell_type": "code",
   "execution_count": 64,
   "metadata": {
    "collapsed": false
   },
   "outputs": [
    {
     "name": "stdout",
     "output_type": "stream",
     "text": [
      "384\n",
      "0.0411357879639\n"
     ]
    }
   ],
   "source": [
    "import time\n",
    "start = time.time()\n",
    "resp = collection.find({\"$and\":[\n",
    "                        {\"$text\":{\"$search\":\"憲法 中華民國憲法\"}}, # text index的查詢語法\n",
    "                        {\"tfidf\":\"蔡英文\"},                       # tfidf欄位有建普通的index\n",
    "                            ]},\n",
    "                    {\"date\":1,\"_id\":0}).sort(\"date\",-1)\n",
    "print resp.count()\n",
    "end = time.time() - start\n",
    "print end\n",
    "#print resp.explain()"
   ]
  },
  {
   "cell_type": "code",
   "execution_count": 46,
   "metadata": {
    "collapsed": false
   },
   "outputs": [
    {
     "name": "stdout",
     "output_type": "stream",
     "text": [
      "19459\n",
      "0.10466003418\n"
     ]
    }
   ],
   "source": [
    "start = time.time()\n",
    "resp = collection.find(\n",
    "    {\"$text\":{\"$search\":\"蔡英文 憲法\"}} # 蔡英文 or 憲法\n",
    ").sort(\"date\",-1)\n",
    "print resp.count()\n",
    "end = time.time() - start\n",
    "print end\n",
    "#print resp.explain()"
   ]
  },
  {
   "cell_type": "code",
   "execution_count": 67,
   "metadata": {
    "collapsed": false,
    "scrolled": true
   },
   "outputs": [
    {
     "name": "stdout",
     "output_type": "stream",
     "text": [
      "316\n",
      "0.0909171104431\n"
     ]
    }
   ],
   "source": [
    "index_set = set([])\n",
    "import time\n",
    "start = time.time()\n",
    "resp = collection.find({\"$and\":[\n",
    "                        {\"tfidf\":\"蔡英文\"},\n",
    "                        {\"tfidf\":\"憲法\"},    \n",
    "                            ]},\n",
    "                    {\"date\":1,\"_id\":0,\"title\":1}).sort(\"date\",-1)\n",
    "print resp.count()\n",
    "end = time.time() - start\n",
    "print end\n",
    "#print resp.explain()\n",
    "for ele in resp:\n",
    "    index_set.add(ele[\"title\"])  # 將標題放到set中"
   ]
  },
  {
   "cell_type": "code",
   "execution_count": 68,
   "metadata": {
    "collapsed": false,
    "scrolled": true
   },
   "outputs": [
    {
     "name": "stdout",
     "output_type": "stream",
     "text": [
      "453\n",
      "55.3227460384\n"
     ]
    }
   ],
   "source": [
    "regex_set = set([])\n",
    "import time\n",
    "start = time.time()\n",
    "resp = collection.find({\"$and\":[\n",
    "                        {\"tfidf\":{\"$regex\":\"蔡英文\"}},\n",
    "                        {\"tfidf\":{\"$regex\":\"憲法\"}},    \n",
    "                            ]},\n",
    "                    {\"date\":1,\"_id\":0,\"title\":1}).sort(\"date\",-1)\n",
    "print resp.count()\n",
    "end = time.time() - start\n",
    "print end\n",
    "#print resp.explain()\n",
    "for ele in resp:\n",
    "    regex_set.add(ele[\"title\"]) # 將標題放到set中"
   ]
  },
  {
   "cell_type": "code",
   "execution_count": 73,
   "metadata": {
    "collapsed": false
   },
   "outputs": [
    {
     "name": "stdout",
     "output_type": "stream",
     "text": [
      "set([1, 2])\n",
      "set([6, 7])\n"
     ]
    }
   ],
   "source": [
    "# 集合(set)取差集\n",
    "seta = set([1,2,3,4,5])\n",
    "setb = set([3,4,5,6,7])\n",
    "print set.difference(seta,setb) # a才有的\n",
    "print set.difference(setb,seta) # b才有的\n",
    "#help(set)"
   ]
  },
  {
   "cell_type": "code",
   "execution_count": 78,
   "metadata": {
    "collapsed": false
   },
   "outputs": [
    {
     "name": "stdout",
     "output_type": "stream",
     "text": [
      "0\n",
      "127\n"
     ]
    }
   ],
   "source": [
    "print len(set.difference(index_set,regex_set))   # 只有index_set才有的 = 0篇\n",
    "print len(set.difference(regex_set,index_set))   # 只有regex_set才有的 = 127篇"
   ]
  },
  {
   "cell_type": "code",
   "execution_count": 79,
   "metadata": {
    "collapsed": false,
    "scrolled": false
   },
   "outputs": [
    {
     "name": "stdout",
     "output_type": "stream",
     "text": [
      "馬總統維持現況就是不統不獨不武 \n",
      "兩岸關係性質 綠回應蔡立場很清楚 \n",
      "承認九二共識蔡英文馬英九看守應謹言慎行 \n",
      "童振源大陸對台政策 漸趨務實 \n",
      "張善政別把兩岸談判公務員當嫌疑人 \n",
      "蔡英文擬參加國慶　洪秀柱：心裡想著要終結中華民國？\n",
      "蔡：讓金門發揮和平穩定作用\n",
      "傳蔡屬意陳菊接黨魁 民進黨無此問題 \n",
      "打造新憲法 公民出任務 \n",
      "李四川投書外媒 批蔡兩岸政策模糊 \n",
      "即時熱評雙英會的袖中劍綿裡針 \n",
      "馬英九堅持有九二共識　批李登輝「忘記了」、質疑小英\n",
      "學者何謂憲政體制 北京等蔡答案 \n",
      "反擊蔡英文到底　總統府：「蔡習會」就不會傷害民主？\n",
      "蔡英文要求善意 中共官媒九二共識絕不讓 \n",
      "一中是中華民國柯P接受 蔡英文呢 \n",
      "楊瑞宏／選擇蔡英文，就是選擇馬英九\n",
      "聯合九二共識蔡英文馬步鬆動 \n",
      "時論─小英反課綱 就是否定中華民國\n",
      "陳長文專欄》天堂不撤守—民進黨坐上駕駛座就轉彎\n",
      "真道理性真愛台灣系列 2－打一場擺脫藍綠統獨的選舉\n",
      "民進黨對中政策：凝聚台灣內部共識 做為兩岸對話基礎\n",
      "陸：堅持九二共識 包括城市交流\n",
      "綠營黨魁 謝長廷：已參選了\n",
      "馬總統批毛辭呈成定局 張善政任新揆呼聲高 \n",
      "擺明要推翻國家　黃智賢：民進黨式的台獨讓人瞧不起\n",
      "課綱爭議5問洪促蔡 表態台獨主張 \n",
      "蔡英文若毛不願留下 馬應盡快找人 \n",
      "陸委會無論誰執政 盼延續九二共識 \n",
      "黃清龍專欄－民進黨需要新的決議文\n",
      "要陸給善意 總該有個「依據」\n",
      "府馬執政7年現狀 人民支持 \n",
      "時論─小英新南向牌 聯手日本\n",
      "馬總統盼蔡英文支持九二共識 \n",
      "兩岸在底線中找交集\n",
      "批民進黨聲援反課綱無理　洪秀柱臉書「五問」蔡英文\n",
      "蔡英文批馬英九　總統府回嗆： 終須接受應有的檢驗\n",
      "凍結台獨黨綱　柯建銘：拋刻板印象盼重返執政\n",
      "如何鑒別蔡英文兩岸論述的真心與假意？\n",
      "民進黨對李克強談話 重申蔡英文維持現狀主張 \n",
      "兩岸冷內戰危機系列一》社論－調整與大陸關係 蔡英文責無旁貸\n",
      "綠營派系競合 民共交流路迢遙\n",
      "黃敏惠轉型正義或仇恨蔡英文要說清楚 \n",
      "《焦點評論》三強競逐二○一六 提前開戰\n",
      "檢驗所有參選人兩岸政策必須同一檢視與評斷\n",
      "名家觀點－穩定政局最優先\n",
      "黨主席之爭　謝長廷：蘇無法超越自己、小英有四個困境\n",
      "一個中華民國是憲法，一個中國可不是憲法！\n",
      "「南海和平倡議」聯合大陸？馬英九酸民進黨：沒有常識\n",
      "蔡督軍修憲,邀藍營一起改革力促18歲公民權,降低不分區門檻\n",
      "「維持兩岸現狀」無實質內容　陸委會：蔡英文不應迴避\n",
      "柱姐止血 辣就對了 \n",
      "聯合九二共識柯P見解與子瑜效應 \n",
      "蔡英文：凝聚台灣內部共識做為兩岸對話的基礎\n",
      "天橋底下來play 談雙英會的意義及成果 \n",
      "反課綱學生佔教育部　洪秀柱：社會應冷靜討論\n",
      "王金平諷小英六月芥菜 柯建銘回嗆形容你更貼切 \n",
      "蔡英文嗆要訂交接條例 \n",
      "藍高層終極統一 不是現在台灣主流民意 \n",
      "王毅說憲法 陸學者：外界勿誤讀\n",
      "汪毅夫民進黨須證明不再台獨 \n",
      "朱立倫請蔡英文說清憲政體制 \n",
      "朱立倫九二共識 就在憲政體制下 \n",
      "綠：先凝聚台灣共識\n",
      "蔡英文、毛治國都拒絕　總統府：審慎考量新任閣揆人選\n",
      "林金源專欄－請蔡英文公平對待郭冠英們\n",
      "兩岸基礎 郝柏村憲法下的九二共識 \n",
      "新黨：岩里政男滾回日本去\n",
      "時論－凍結台獨黨綱才能邁向執政\n",
      "沒台獨必要 李登輝把中華民國台灣化就好 \n",
      "徐宗懋專欄－中華民國派就是中間派\n",
      "民團要世代正義 要求下修投票年齡 \n",
      "蔡批連中華民國都不見 府反擊請讀馬談話全文 \n",
      "蔡：建立,一致性,可預測,可持續,兩岸關係華府演說,允在憲政下依民意發展\n",
      "前腳出、後腳進　蘇蔡探視罹難家屬成接力賽？\n",
      "蔡唱國歌 跳針吾黨\n",
      "宋楚瑜引發泛藍棄保效應？　洪秀柱：保我就對啦\n",
      "社論》穩輸的「圓周遊戲」\n",
      "洪秀柱批蔡英文消費民主 \n",
      "中國外長王毅華府喊話　要蔡英文接受「兩岸同屬一中」\n",
      "洪：與蔡只差7百分點,有得拼稱採用大數據,支持度曾達6成,蔡：有些差距\n",
      "蔡要過中國人考試總統 台灣人決定 \n",
      "多數黨組閣 蔡英文選舉倒數政治操作 \n",
      "王美玉專欄－謝長廷找到出路了嗎\n",
      "張善政任閣揆 民進黨尊重總統職權 \n",
      "蔡兩岸關係新論述　陸委會：政府已推動落實\n",
      "府回應蔡演說重要處不新穎 新穎處不重要 \n",
      "馬蔡「維持現狀」 名同實異\n",
      "批蔡英文 吳敦義籲勿讓貪腐集團回來 \n",
      "自由廣場》我們對蔡英文「維持現狀」的判斷\n",
      "兩岸同屬一中？　民進黨：根據憲法秉持超越黨派立場\n",
      "馬英九任命新內閣　民進黨：尊重憲政也願意提供協助\n",
      "謹守議長中立 蘇嘉全蔡其昌辭中常委 \n",
      "陸委會憲法架構下已落實 \n",
      "中國首提我國憲法　蔡其昌：尊重中華民國存在就是善意\n",
      "兩岸關係憲法論系列 3》社論－深化兩岸治權合作可福國利民\n",
      "兩岸問題聚焦92共識與憲法　蔡英文：太過狹隘\n",
      "聯合回歸憲法蔡英文跨出正確的一步 \n",
      "謝長廷：對中政策沒亮點批「台灣共識」,未站在主流價值\n",
      "李四川投書外媒 批蔡英文兩岸政策模糊 \n",
      "王毅的憲法說 蔡英文不回應 \n",
      "看問題》北京要抓住歷史機遇\n",
      "小英堅守中華民國底線　蔡其昌籲王毅：不要標準不一\n",
      "馬英九蔡英文曾承認九二共識 \n",
      "洪：若當選 依憲法改課綱\n",
      "蔡拋憲政體制 朱要蔡說清楚\n",
      "短評－小英的兩國論…\n",
      "立院外喊話　蘇蔡游呂：倒閣不成憲政有問題\n",
      "府批蔡悖離和平現狀\n",
      "焦點評論：支持蔡英文的條件還不存在（張娟芬）\n",
      "哪個太陽夠力？蔡英文派林全赴中\n",
      "社論》看看朱立倫與蔡英文站在哪一邊\n",
      "陳隆志 籲制定台灣憲法\n",
      "蔡英文說維持現狀 蘇起牛肉呢 \n",
      "促改辯關說風暴 謝長廷：我也可上場\n",
      "論兩岸關係中的維持現狀\n",
      "府批蔡英文避重就輕 一廂情願 \n",
      "柯宋配？ 柯文哲：這是科幻片吧\n",
      "〈中部〉蔡英文租屋豐原 台中副市長歡迎\n",
      "總統府還須政黨輪替 \n",
      "「遵憲」蔡宋會兩岸共識 政黨合作起跑 雙英會有影\n",
      "疑搬憲法告誡蔡英文　馬英九：身為總統需接受九二共識\n",
      "蔡英文唱國歌跳掉吾黨 藍委諷綠委挺 \n",
      "府嗆蔡英文：不能要當中華民國總統，又不挺《憲法》！\n",
      "人權日宣示 蔡英文和各政黨推動憲改 \n",
      "馬習會悖離台灣現況？陳以信回擊蔡英文：閉著眼睛批評\n",
      "讚蔡英文兩岸政策有進步　宋楚瑜：應說明白一點\n"
     ]
    }
   ],
   "source": [
    "for title in list(set.difference(regex_set,index_set)): # 將set強制轉型成list, 因為set不能疊代(iterate),不能用for\n",
    "    print title                                         # 印出差集內的127篇title"
   ]
  },
  {
   "cell_type": "code",
   "execution_count": null,
   "metadata": {
    "collapsed": true
   },
   "outputs": [],
   "source": []
  }
 ],
 "metadata": {
  "kernelspec": {
   "display_name": "Python 2",
   "language": "python",
   "name": "python2"
  },
  "language_info": {
   "codemirror_mode": {
    "name": "ipython",
    "version": 2
   },
   "file_extension": ".py",
   "mimetype": "text/x-python",
   "name": "python",
   "nbconvert_exporter": "python",
   "pygments_lexer": "ipython2",
   "version": "2.7.8"
  }
 },
 "nbformat": 4,
 "nbformat_minor": 0
}
