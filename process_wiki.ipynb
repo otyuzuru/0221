{
 "cells": [
  {
   "cell_type": "code",
   "execution_count": 1,
   "metadata": {
    "collapsed": false
   },
   "outputs": [
    {
     "name": "stderr",
     "output_type": "stream",
     "text": [
      "INFO:process_wiki.py:running E:/text_mining/process_wiki.py E:/text_mining/zhwiki-latest-pages-articles.xml.bz2 E:/text_mining/wiki.zh.text\n",
      "INFO:process_wiki.py:Saved 10000 articles\n",
      "INFO:process_wiki.py:Saved 20000 articles\n",
      "INFO:process_wiki.py:Saved 30000 articles\n",
      "INFO:process_wiki.py:Saved 40000 articles\n",
      "INFO:process_wiki.py:Saved 50000 articles\n",
      "INFO:process_wiki.py:Saved 60000 articles\n",
      "INFO:process_wiki.py:Saved 70000 articles\n",
      "INFO:process_wiki.py:Saved 80000 articles\n",
      "INFO:process_wiki.py:Saved 90000 articles\n",
      "INFO:process_wiki.py:Saved 100000 articles\n",
      "INFO:process_wiki.py:Saved 110000 articles\n",
      "INFO:process_wiki.py:Saved 120000 articles\n",
      "INFO:process_wiki.py:Saved 130000 articles\n",
      "INFO:process_wiki.py:Saved 140000 articles\n",
      "INFO:process_wiki.py:Saved 150000 articles\n",
      "INFO:process_wiki.py:Saved 160000 articles\n",
      "INFO:process_wiki.py:Saved 170000 articles\n",
      "INFO:process_wiki.py:Saved 180000 articles\n",
      "INFO:process_wiki.py:Saved 190000 articles\n",
      "INFO:process_wiki.py:Saved 200000 articles\n",
      "INFO:process_wiki.py:Saved 210000 articles\n",
      "INFO:process_wiki.py:Saved 220000 articles\n",
      "INFO:process_wiki.py:Saved 230000 articles\n",
      "INFO:process_wiki.py:Saved 240000 articles\n",
      "INFO:process_wiki.py:Saved 250000 articles\n",
      "INFO:gensim.corpora.wikicorpus:finished iterating over Wikipedia corpus of 257337 documents with 57699566 positions (total 2755239 articles, 69248752 positions before pruning articles shorter than 50 words)\n",
      "INFO:process_wiki.py:Finished Saved 257337 articles\n"
     ]
    }
   ],
   "source": [
    "#!/usr/bin/env python\n",
    "# -*- coding: utf-8 -*-\n",
    "#wiki詞庫格式轉換\n",
    "\n",
    "import logging\n",
    "import os.path\n",
    "import sys\n",
    "\n",
    "#console: python process_wiki.py zhwiki-latest-pages-articles.xml.bz2 wiki.zh.text \n",
    "sys.argv=[\"E:/text_mining/process_wiki.py\",\n",
    "          \"E:/text_mining/zhwiki-latest-pages-articles.xml.bz2\",\n",
    "          \"E:/text_mining/wiki.zh.text\"\n",
    "         ]\n",
    "\n",
    "from gensim.corpora import WikiCorpus\n",
    " \n",
    "if __name__ == '__main__':\n",
    "    program = os.path.basename(sys.argv[0])\n",
    "    logger = logging.getLogger(program)\n",
    " \n",
    "    logging.basicConfig(format='%(asctime)s: %(levelname)s: %(message)s')\n",
    "    logging.root.setLevel(level=logging.INFO)\n",
    "    logger.info(\"running %s\" % ' '.join(sys.argv))\n",
    " \n",
    "    # check and process input arguments\n",
    "    if len(sys.argv) < 3:\n",
    "        print globals()['__doc__'] % locals()\n",
    "        sys.exit(1)\n",
    "    inp, outp = sys.argv[1:3]\n",
    "    space = \" \"\n",
    "    i = 0\n",
    " \n",
    "    output = open(outp, 'w')\n",
    "    wiki = WikiCorpus(inp, lemmatize=False, dictionary={})\n",
    "    for text in wiki.get_texts():\n",
    "        output.write(space.join(text) + \"\\n\")\n",
    "        i = i + 1\n",
    "        if (i % 10000 == 0):\n",
    "            logger.info(\"Saved \" + str(i) + \" articles\")\n",
    " \n",
    "    output.close()\n",
    "    logger.info(\"Finished Saved \" + str(i) + \" articles\")"
   ]
  },
  {
   "cell_type": "code",
   "execution_count": 3,
   "metadata": {
    "collapsed": false
   },
   "outputs": [],
   "source": []
  },
  {
   "cell_type": "code",
   "execution_count": null,
   "metadata": {
    "collapsed": true
   },
   "outputs": [],
   "source": []
  },
  {
   "cell_type": "code",
   "execution_count": null,
   "metadata": {
    "collapsed": true
   },
   "outputs": [],
   "source": []
  }
 ],
 "metadata": {
  "kernelspec": {
   "display_name": "Python 2",
   "language": "python",
   "name": "python2"
  },
  "language_info": {
   "codemirror_mode": {
    "name": "ipython",
    "version": 2
   },
   "file_extension": ".py",
   "mimetype": "text/x-python",
   "name": "python",
   "nbconvert_exporter": "python",
   "pygments_lexer": "ipython2",
   "version": "2.7.11"
  }
 },
 "nbformat": 4,
 "nbformat_minor": 0
}
