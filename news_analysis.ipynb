{
 "cells": [
  {
   "cell_type": "code",
   "execution_count": 1,
   "metadata": {
    "collapsed": true
   },
   "outputs": [],
   "source": [
    "from pymongo import command_cursor\n",
    "from pymongo import MongoClient  #logical query selector\n",
    "\n",
    "client = MongoClient('10.120.28.20', 27017)\n",
    "database = client[\"test\"]\n",
    "collection = database[\"news\"]\n"
   ]
  },
  {
   "cell_type": "code",
   "execution_count": 13,
   "metadata": {
    "collapsed": false
   },
   "outputs": [
    {
     "name": "stdout",
     "output_type": "stream",
     "text": [
      "total 1593132.0\n"
     ]
    }
   ],
   "source": [
    "total = float(collection.find({}).count())\n",
    "print \"total\", total  #總筆數"
   ]
  },
  {
   "cell_type": "code",
   "execution_count": 11,
   "metadata": {
    "collapsed": true
   },
   "outputs": [],
   "source": [
    "date_list = collection.aggregate([\n",
    "        {\"$group\":{\"_id\":\"$category\",\"count\":{\"$sum\":1}}},\n",
    "        {\"$sort\":{\"count\":-1}}\n",
    "                ])\n"
   ]
  },
  {
   "cell_type": "code",
   "execution_count": 12,
   "metadata": {
    "collapsed": false,
    "scrolled": false
   },
   "outputs": [
    {
     "name": "stdout",
     "output_type": "stream",
     "text": [
      "地方 9.41303043313 %\n",
      "地方新聞 5.88865203888 %\n",
      "生活 5.70982191055 %\n",
      "社會 4.88791889184 %\n",
      "體育 4.88791889184 %\n",
      "財經 4.73275284157 %\n",
      "要聞 4.51337365642 %\n",
      "影劇 3.79334543528 %\n",
      "焦點要聞 3.2731123347 %\n",
      " 3.22484263702 %\n",
      "政治 3.19534100125 %\n",
      "國際 3.14336790674 %\n",
      "娛樂 2.84307891625 %\n",
      "消費 1.86280860594 %\n",
      "娛樂新聞 1.7221422958 %\n",
      "股市 1.42047237768 %\n",
      "娛樂名人 1.3931049028 %\n",
      "兩岸 1.30547876761 %\n",
      "運動 1.29217164679 %\n",
      "全球 1.23611853883 %\n",
      "產經 1.18182297512 %\n",
      "副刊 1.15545981124 %\n",
      "副刊焦點 1.14290592368 %\n",
      "論壇 1.11723322361 %\n",
      "焦點 1.10323563898 %\n",
      "地方綜合 1.08653896852 %\n",
      "旅遊 1.04297697868 %\n",
      "時尚消費 0.998096830646 %\n",
      "言論 0.906327912565 %\n",
      "社會新聞 0.852095118295 %\n",
      "運動天地 0.807842664638 %\n",
      "財經焦點 0.7951632382 %\n",
      "兩岸國際 0.735595041717 %\n",
      "新奇 0.727435014801 %\n",
      "時論廣場 0.725112545602 %\n",
      "寵物動物 0.68845519392 %\n",
      "藝文副刊 0.687701960666 %\n",
      "投打對決 0.664540038114 %\n",
      "國際新聞 0.618216193008 %\n",
      "大陸 0.600829058735 %\n",
      "遊戲 0.582249305142 %\n",
      "名人時尚 0.56712187063 %\n",
      "家庭與健康 0.525380194485 %\n",
      "頭條 0.511194301539 %\n",
      "生活新聞 0.50372473844 %\n",
      "健康 0.466941847882 %\n",
      "體育焦點 0.460037209723 %\n",
      "投資理財 0.458719051529 %\n",
      "名家 0.431853732145 %\n",
      "大運動場 0.407561959712 %\n",
      "亞洲哈燒星 0.386032042543 %\n",
      "3C 0.370276913652 %\n",
      "《旺到報》 0.345608524592 %\n",
      "評論 0.34221897495 %\n",
      "美食天地 0.339959275189 %\n",
      "籃球瘋 0.332803559278 %\n",
      "車市3C 0.307821323029 %\n",
      "數位 0.301418840372 %\n",
      "木瓜霞吐槽 0.296522824223 %\n",
      "名采 0.295644052094 %\n",
      "直擊好萊塢 0.294200355024 %\n",
      "國際頭條 0.27882184276 %\n",
      "國際財經 0.278194148382 %\n",
      "中國新聞 0.25961439479 %\n",
      "投訴 0.22948506464 %\n",
      "熱門話題 0.208520072411 %\n",
      "電影 0.205695447709 %\n",
      "法庭 0.198853578988 %\n",
      "《旺來報》 0.19276494352 %\n",
      "足球新聞 0.192325557455 %\n",
      "暖流 0.18071321146 %\n",
      "雙語天下 0.175503348122 %\n",
      "網搜 0.167406090644 %\n",
      "科技3C 0.155354358584 %\n",
      "綜合產業 0.154475586455 %\n",
      "運彩分析 0.153847892077 %\n",
      "人間事 0.136649066116 %\n",
      "金融保險 0.133133977599 %\n",
      "ETlife 0.12936781133 %\n",
      "時尚 0.119199162405 %\n",
      "旅遊與探險 0.0877516740609 %\n",
      "男女 0.0669122207074 %\n",
      "頭家生意 0.0647780598218 %\n",
      "ET來了 0.0628949766874 %\n",
      "開運 0.0541700248316 %\n",
      "證券 0.0536050998913 %\n",
      "強檔新片 0.0293133274581 %\n",
      "櫻桃六＆日 0.0171360565226 %\n",
      "科技 0.0170732870848 %\n",
      "公民 0.0166966704579 %\n",
      "生活理財 0.0160689760798 %\n",
      "公益 0.00627694378118 %\n",
      "基金 0.00577478827869 %\n",
      "金融專題 0.00357785795527 %\n"
     ]
    }
   ],
   "source": [
    "for ele in date_list:\n",
    "    if ele[\"count\"] >= 50:\n",
    "        print ele[\"_id\"], ele[\"count\"]/total*100,\"%\" #各分類百分比"
   ]
  },
  {
   "cell_type": "code",
   "execution_count": 19,
   "metadata": {
    "collapsed": false
   },
   "outputs": [
    {
     "name": "stdout",
     "output_type": "stream",
     "text": [
      "ebc 51366\n",
      "udn 10\n"
     ]
    }
   ],
   "source": [
    "blank = collection.aggregate([\n",
    "        {\"$match\":{\"category\":\"\"}},\n",
    "        {\"$group\":{\"_id\":\"$comp\",\"count\":{\"$sum\":1}}}\n",
    "    ])\n",
    "\n",
    "for ele in blank:\n",
    "    print ele[\"_id\"], ele[\"count\"]  #分類有空白的新聞社"
   ]
  },
  {
   "cell_type": "code",
   "execution_count": 20,
   "metadata": {
    "collapsed": false
   },
   "outputs": [
    {
     "name": "stdout",
     "output_type": "stream",
     "text": [
      "53543\n"
     ]
    }
   ],
   "source": [
    "resp_test = collection.find({\"date\":{\"$regex\":\"/\"}})\n",
    "print resp_test.count()  #日期有斜線的筆數"
   ]
  },
  {
   "cell_type": "code",
   "execution_count": 24,
   "metadata": {
    "collapsed": false
   },
   "outputs": [
    {
     "data": {
      "text/plain": [
       "141038"
      ]
     },
     "execution_count": 24,
     "metadata": {},
     "output_type": "execute_result"
    }
   ],
   "source": [
    "collection.find({\"$or\":[\n",
    "            {\"category\":\"體育\"},\n",
    "            {\"category\":\"運動\"},\n",
    "            {\"category\":\"運動天地\"},\n",
    "            {\"category\":\"投打對決\"},\n",
    "            {\"category\":\"體育焦點\"},\n",
    "            {\"category\":\"大運動場\"},\n",
    "            {\"category\":\"籃球瘋\"},\n",
    "    ]}).count()   #跟運動相關的筆數 #人工判斷分類"
   ]
  },
  {
   "cell_type": "code",
   "execution_count": 25,
   "metadata": {
    "collapsed": false
   },
   "outputs": [
    {
     "data": {
      "text/plain": [
       "94924"
      ]
     },
     "execution_count": 25,
     "metadata": {},
     "output_type": "execute_result"
    }
   ],
   "source": [
    "collection.find({\"$or\":[\n",
    "            {\"category\":\"娛樂\"},\n",
    "            {\"category\":\"娛樂新聞\"},\n",
    "            {\"category\":\"娛樂名人\"},\n",
    "    ]}).count()  #跟娛樂相關的筆數 #人工判斷分類"
   ]
  },
  {
   "cell_type": "code",
   "execution_count": null,
   "metadata": {
    "collapsed": true
   },
   "outputs": [],
   "source": []
  }
 ],
 "metadata": {
  "kernelspec": {
   "display_name": "Python 2",
   "language": "python",
   "name": "python2"
  },
  "language_info": {
   "codemirror_mode": {
    "name": "ipython",
    "version": 2
   },
   "file_extension": ".py",
   "mimetype": "text/x-python",
   "name": "python",
   "nbconvert_exporter": "python",
   "pygments_lexer": "ipython2",
   "version": "2.7.11"
  }
 },
 "nbformat": 4,
 "nbformat_minor": 0
}
