{
 "cells": [
  {
   "cell_type": "code",
   "execution_count": 66,
   "metadata": {
    "collapsed": false,
    "scrolled": false
   },
   "outputs": [
    {
     "name": "stdout",
     "output_type": "stream",
     "text": [
      "身体健康\n",
      "Python 下的繁簡轉換!\n"
     ]
    }
   ],
   "source": [
    "#簡繁轉換\n",
    "\n",
    "import opencc\n",
    "\n",
    "def simplify(text):\n",
    "    return opencc.OpenCC(config='zht2zhs.ini').convert(text.decode('utf8'))\n",
    "\n",
    "def traditionalize(text):\n",
    "    return opencc.OpenCC(config='zhs2zht.ini').convert(text.decode('utf8'))\n",
    "\n",
    "traditional_chinese_words = '身體健康' #.decode(\"utf8\")\n",
    "simplified_chinese_words = 'Python 下的繁简转换!' #.decode(\"utf8\")\n",
    "\n",
    "t2sresult = simplify(traditional_chinese_words)\n",
    "s2tresult = traditionalize(simplified_chinese_words)\n",
    "\n",
    "print t2sresult\n",
    "print s2tresult\n"
   ]
  },
  {
   "cell_type": "code",
   "execution_count": null,
   "metadata": {
    "collapsed": false
   },
   "outputs": [],
   "source": [
    "import opencc\n",
    "def traditionalize(text):\n",
    "    return opencc.OpenCC(config='zhs2zht.ini').convert(text.decode('utf8'))\n",
    "\n",
    "inpath = \"E:/text_mining/wiki.zh.text\"\n",
    "outpath = \"E:/text_mining/wiki_res.text\""
   ]
  },
  {
   "cell_type": "code",
   "execution_count": null,
   "metadata": {
    "collapsed": true
   },
   "outputs": [],
   "source": []
  }
 ],
 "metadata": {
  "kernelspec": {
   "display_name": "Python 2",
   "language": "python",
   "name": "python2"
  },
  "language_info": {
   "codemirror_mode": {
    "name": "ipython",
    "version": 2
   },
   "file_extension": ".py",
   "mimetype": "text/x-python",
   "name": "python",
   "nbconvert_exporter": "python",
   "pygments_lexer": "ipython2",
   "version": "2.7.11"
  }
 },
 "nbformat": 4,
 "nbformat_minor": 0
}
